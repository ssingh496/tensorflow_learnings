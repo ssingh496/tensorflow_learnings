{
 "cells": [
  {
   "cell_type": "markdown",
   "metadata": {},
   "source": [
    "In this notebook we'll demonstrate how to use two Canned Estimators (these encapsulate the lower-level TensorFlow code we've seen so far, and use an API loosely inspired by scikit-learn. "
   ]
  },
  {
   "cell_type": "code",
   "execution_count": 16,
   "metadata": {},
   "outputs": [],
   "source": [
    "from __future__ import absolute_import\n",
    "from __future__ import division\n",
    "from __future__ import print_function\n",
    "import warnings\n",
    "warnings.filterwarnings(\"ignore\")\n",
    "import numpy as np\n",
    "import tensorflow as tf"
   ]
  },
  {
   "cell_type": "code",
   "execution_count": 17,
   "metadata": {},
   "outputs": [],
   "source": [
    "(x_train, y_train), (x_test, y_test) = tf.contrib.keras.datasets.mnist.load_data()"
   ]
  },
  {
   "cell_type": "code",
   "execution_count": 18,
   "metadata": {},
   "outputs": [
    {
     "name": "stdout",
     "output_type": "stream",
     "text": [
      "(60000, 28, 28)\n"
     ]
    }
   ],
   "source": [
    "print(x_train.shape)"
   ]
  },
  {
   "cell_type": "code",
   "execution_count": 19,
   "metadata": {},
   "outputs": [
    {
     "name": "stdout",
     "output_type": "stream",
     "text": [
      "60000 train samples\n",
      "10000 test samples\n"
     ]
    }
   ],
   "source": [
    "x_train = x_train.astype('float32')\n",
    "x_test = x_test.astype('float32')\n",
    "\n",
    "y_train = y_train.astype('int32')\n",
    "y_test = y_test.astype('int32')\n",
    "\n",
    "# Normalize the color values to 0-1\n",
    "# (as imported, they're 0-255)\n",
    "x_train /= 255\n",
    "x_test /= 255\n",
    "\n",
    "print(x_train.shape[0], 'train samples')\n",
    "print(x_test.shape[0], 'test samples')"
   ]
  },
  {
   "cell_type": "code",
   "execution_count": 20,
   "metadata": {},
   "outputs": [],
   "source": [
    "train_input = tf.estimator.inputs.numpy_input_fn(\n",
    "    {'x': x_train},\n",
    "    y_train, \n",
    "    num_epochs=None, # repeat forever\n",
    "    shuffle=True # \n",
    ")"
   ]
  },
  {
   "cell_type": "code",
   "execution_count": 21,
   "metadata": {},
   "outputs": [],
   "source": [
    "\n",
    "test_input = tf.estimator.inputs.numpy_input_fn(\n",
    "    {'x': x_test},\n",
    "    y_test,\n",
    "    num_epochs=1, # loop through the dataset once\n",
    "    shuffle=False # don't shuffle the test data\n",
    ")"
   ]
  },
  {
   "cell_type": "code",
   "execution_count": 22,
   "metadata": {},
   "outputs": [],
   "source": [
    "# define the features for our model\n",
    "# the names must match the input function\n",
    "feature_spec = [tf.feature_column.numeric_column('x', shape=784)]"
   ]
  },
  {
   "cell_type": "code",
   "execution_count": 23,
   "metadata": {},
   "outputs": [
    {
     "name": "stdout",
     "output_type": "stream",
     "text": [
      "INFO:tensorflow:Using default config.\n",
      "INFO:tensorflow:Using config: {'_model_dir': './graphs/canned/linear', '_tf_random_seed': None, '_save_summary_steps': 100, '_save_checkpoints_steps': None, '_save_checkpoints_secs': 600, '_session_config': None, '_keep_checkpoint_max': 5, '_keep_checkpoint_every_n_hours': 10000, '_log_step_count_steps': 100, '_train_distribute': None, '_device_fn': None, '_service': None, '_cluster_spec': <tensorflow.python.training.server_lib.ClusterSpec object at 0x0000021469482C18>, '_task_type': 'worker', '_task_id': 0, '_global_id_in_cluster': 0, '_master': '', '_evaluation_master': '', '_is_chief': True, '_num_ps_replicas': 0, '_num_worker_replicas': 1}\n",
      "INFO:tensorflow:Calling model_fn.\n",
      "INFO:tensorflow:Done calling model_fn.\n",
      "INFO:tensorflow:Create CheckpointSaverHook.\n",
      "INFO:tensorflow:Graph was finalized.\n",
      "INFO:tensorflow:Restoring parameters from ./graphs/canned/linear\\model.ckpt-1000\n",
      "INFO:tensorflow:Running local_init_op.\n",
      "INFO:tensorflow:Done running local_init_op.\n",
      "INFO:tensorflow:Saving checkpoints for 1000 into ./graphs/canned/linear\\model.ckpt.\n",
      "INFO:tensorflow:loss = 32.738277, step = 1001\n",
      "INFO:tensorflow:global_step/sec: 293.133\n",
      "INFO:tensorflow:loss = 64.69701, step = 1101 (0.344 sec)\n",
      "INFO:tensorflow:global_step/sec: 344.489\n",
      "INFO:tensorflow:loss = 51.26854, step = 1201 (0.290 sec)\n",
      "INFO:tensorflow:global_step/sec: 327.735\n",
      "INFO:tensorflow:loss = 33.319077, step = 1301 (0.305 sec)\n",
      "INFO:tensorflow:global_step/sec: 347.956\n",
      "INFO:tensorflow:loss = 38.71855, step = 1401 (0.287 sec)\n",
      "INFO:tensorflow:global_step/sec: 362.65\n",
      "INFO:tensorflow:loss = 47.274235, step = 1501 (0.276 sec)\n",
      "INFO:tensorflow:global_step/sec: 396.149\n",
      "INFO:tensorflow:loss = 55.66449, step = 1601 (0.252 sec)\n",
      "INFO:tensorflow:global_step/sec: 324.496\n",
      "INFO:tensorflow:loss = 18.198915, step = 1701 (0.308 sec)\n",
      "INFO:tensorflow:global_step/sec: 358.098\n",
      "INFO:tensorflow:loss = 30.410706, step = 1801 (0.279 sec)\n",
      "INFO:tensorflow:global_step/sec: 354.968\n",
      "INFO:tensorflow:loss = 32.654793, step = 1901 (0.282 sec)\n",
      "INFO:tensorflow:Saving checkpoints for 2000 into ./graphs/canned/linear\\model.ckpt.\n",
      "INFO:tensorflow:Loss for final step: 44.34634.\n"
     ]
    },
    {
     "data": {
      "text/plain": [
       "<tensorflow.python.estimator.canned.linear.LinearClassifier at 0x21469482550>"
      ]
     },
     "execution_count": 23,
     "metadata": {},
     "output_type": "execute_result"
    }
   ],
   "source": [
    "# LinearClassifier\n",
    "\n",
    "estimator = tf.estimator.LinearClassifier(feature_spec, \n",
    "                                          n_classes=10,\n",
    "                                          model_dir=\"./graphs/canned/linear\")\n",
    "\n",
    "\n",
    "# I've arbitrarily decided to train for 1000 steps\n",
    "estimator.train(train_input, steps=1000)"
   ]
  },
  {
   "cell_type": "code",
   "execution_count": 24,
   "metadata": {},
   "outputs": [
    {
     "name": "stdout",
     "output_type": "stream",
     "text": [
      "INFO:tensorflow:Calling model_fn.\n",
      "INFO:tensorflow:Done calling model_fn.\n",
      "INFO:tensorflow:Starting evaluation at 2019-12-26-13:52:06\n",
      "INFO:tensorflow:Graph was finalized.\n",
      "INFO:tensorflow:Restoring parameters from ./graphs/canned/linear\\model.ckpt-2000\n",
      "INFO:tensorflow:Running local_init_op.\n",
      "INFO:tensorflow:Done running local_init_op.\n",
      "INFO:tensorflow:Finished evaluation at 2019-12-26-13:52:07\n",
      "INFO:tensorflow:Saving dict for global step 2000: accuracy = 0.9248, average_loss = 0.27618936, global_step = 2000, loss = 34.96068\n",
      "INFO:tensorflow:Saving 'checkpoint_path' summary for global step 2000: ./graphs/canned/linear\\model.ckpt-2000\n",
      "{'accuracy': 0.9248, 'average_loss': 0.27618936, 'loss': 34.96068, 'global_step': 2000}\n"
     ]
    }
   ],
   "source": [
    "\n",
    "# We should see about 90% accuracy here.\n",
    "evaluation = estimator.evaluate(input_fn=test_input)\n",
    "print(evaluation)"
   ]
  },
  {
   "cell_type": "code",
   "execution_count": 25,
   "metadata": {},
   "outputs": [
    {
     "name": "stdout",
     "output_type": "stream",
     "text": [
      "INFO:tensorflow:Calling model_fn.\n",
      "INFO:tensorflow:Done calling model_fn.\n",
      "INFO:tensorflow:Graph was finalized.\n",
      "INFO:tensorflow:Restoring parameters from ./graphs/canned/linear\\model.ckpt-2000\n",
      "INFO:tensorflow:Running local_init_op.\n",
      "INFO:tensorflow:Done running local_init_op.\n",
      "Example 0. True: 7, Predicted: 7\n",
      "Example 1. True: 2, Predicted: 2\n",
      "Example 2. True: 1, Predicted: 1\n",
      "Example 3. True: 0, Predicted: 0\n",
      "Example 4. True: 4, Predicted: 4\n"
     ]
    }
   ],
   "source": [
    "MAX_TO_PRINT = 5\n",
    "\n",
    "# This returns a generator object\n",
    "predictions = estimator.predict(input_fn=test_input)\n",
    "i = 0\n",
    "for p in predictions:\n",
    "    true_label = y_test[i]\n",
    "    predicted_label = p['class_ids'][0]\n",
    "    print(\"Example %d. True: %d, Predicted: %d\" % (i, true_label, predicted_label))\n",
    "    i += 1\n",
    "    if i == MAX_TO_PRINT: break"
   ]
  },
  {
   "cell_type": "code",
   "execution_count": 27,
   "metadata": {},
   "outputs": [
    {
     "name": "stdout",
     "output_type": "stream",
     "text": [
      "INFO:tensorflow:Using default config.\n",
      "INFO:tensorflow:Using config: {'_model_dir': './graphs/canned/deep', '_tf_random_seed': None, '_save_summary_steps': 100, '_save_checkpoints_steps': None, '_save_checkpoints_secs': 600, '_session_config': None, '_keep_checkpoint_max': 5, '_keep_checkpoint_every_n_hours': 10000, '_log_step_count_steps': 100, '_train_distribute': None, '_device_fn': None, '_service': None, '_cluster_spec': <tensorflow.python.training.server_lib.ClusterSpec object at 0x000002145C6976D8>, '_task_type': 'worker', '_task_id': 0, '_global_id_in_cluster': 0, '_master': '', '_evaluation_master': '', '_is_chief': True, '_num_ps_replicas': 0, '_num_worker_replicas': 1}\n"
     ]
    }
   ],
   "source": [
    "\n",
    "estimator = tf.estimator.DNNClassifier(\n",
    "    hidden_units=[256], # we will arbitrarily use two layers\n",
    "    feature_columns=feature_spec,\n",
    "    n_classes=10,\n",
    "    model_dir=\"./graphs/canned/deep\")"
   ]
  },
  {
   "cell_type": "code",
   "execution_count": 28,
   "metadata": {},
   "outputs": [
    {
     "name": "stdout",
     "output_type": "stream",
     "text": [
      "INFO:tensorflow:Calling model_fn.\n",
      "INFO:tensorflow:Done calling model_fn.\n",
      "INFO:tensorflow:Create CheckpointSaverHook.\n",
      "INFO:tensorflow:Graph was finalized.\n",
      "INFO:tensorflow:Restoring parameters from ./graphs/canned/deep\\model.ckpt-2000\n",
      "INFO:tensorflow:Running local_init_op.\n",
      "INFO:tensorflow:Done running local_init_op.\n",
      "INFO:tensorflow:Saving checkpoints for 2000 into ./graphs/canned/deep\\model.ckpt.\n",
      "INFO:tensorflow:loss = 7.711816, step = 2001\n",
      "INFO:tensorflow:global_step/sec: 174.14\n",
      "INFO:tensorflow:loss = 7.8134885, step = 2101 (0.579 sec)\n",
      "INFO:tensorflow:global_step/sec: 217.029\n",
      "INFO:tensorflow:loss = 7.8732204, step = 2201 (0.459 sec)\n",
      "INFO:tensorflow:global_step/sec: 194.542\n",
      "INFO:tensorflow:loss = 4.5014606, step = 2301 (0.516 sec)\n",
      "INFO:tensorflow:global_step/sec: 191.332\n",
      "INFO:tensorflow:loss = 3.662867, step = 2401 (0.522 sec)\n",
      "INFO:tensorflow:global_step/sec: 207.592\n",
      "INFO:tensorflow:loss = 1.9076159, step = 2501 (0.481 sec)\n",
      "INFO:tensorflow:global_step/sec: 202.085\n",
      "INFO:tensorflow:loss = 9.118599, step = 2601 (0.495 sec)\n",
      "INFO:tensorflow:global_step/sec: 203.067\n",
      "INFO:tensorflow:loss = 1.7556901, step = 2701 (0.493 sec)\n",
      "INFO:tensorflow:global_step/sec: 189.963\n",
      "INFO:tensorflow:loss = 9.086676, step = 2801 (0.525 sec)\n",
      "INFO:tensorflow:global_step/sec: 192.687\n",
      "INFO:tensorflow:loss = 6.8889885, step = 2901 (0.520 sec)\n",
      "INFO:tensorflow:global_step/sec: 216.429\n",
      "INFO:tensorflow:loss = 6.1426773, step = 3001 (0.464 sec)\n",
      "INFO:tensorflow:global_step/sec: 189.183\n",
      "INFO:tensorflow:loss = 11.700811, step = 3101 (0.527 sec)\n",
      "INFO:tensorflow:global_step/sec: 202.056\n",
      "INFO:tensorflow:loss = 1.6941841, step = 3201 (0.495 sec)\n",
      "INFO:tensorflow:global_step/sec: 186.268\n",
      "INFO:tensorflow:loss = 9.55493, step = 3301 (0.538 sec)\n",
      "INFO:tensorflow:global_step/sec: 215.805\n",
      "INFO:tensorflow:loss = 7.199332, step = 3401 (0.461 sec)\n",
      "INFO:tensorflow:global_step/sec: 198.434\n",
      "INFO:tensorflow:loss = 2.90624, step = 3501 (0.505 sec)\n",
      "INFO:tensorflow:global_step/sec: 205.722\n",
      "INFO:tensorflow:loss = 6.4623213, step = 3601 (0.485 sec)\n",
      "INFO:tensorflow:global_step/sec: 189.918\n",
      "INFO:tensorflow:loss = 10.421282, step = 3701 (0.528 sec)\n",
      "INFO:tensorflow:global_step/sec: 199.4\n",
      "INFO:tensorflow:loss = 3.2426815, step = 3801 (0.501 sec)\n",
      "INFO:tensorflow:global_step/sec: 179.229\n",
      "INFO:tensorflow:loss = 1.0728962, step = 3901 (0.559 sec)\n",
      "INFO:tensorflow:Saving checkpoints for 4000 into ./graphs/canned/deep\\model.ckpt.\n",
      "INFO:tensorflow:Loss for final step: 2.0345898.\n"
     ]
    },
    {
     "data": {
      "text/plain": [
       "<tensorflow.python.estimator.canned.dnn.DNNClassifier at 0x2145c697358>"
      ]
     },
     "execution_count": 28,
     "metadata": {},
     "output_type": "execute_result"
    }
   ],
   "source": [
    "# I've arbitrarily decided to train for 2000 steps\n",
    "estimator.train(train_input, steps=2000)"
   ]
  },
  {
   "cell_type": "code",
   "execution_count": 29,
   "metadata": {},
   "outputs": [
    {
     "name": "stdout",
     "output_type": "stream",
     "text": [
      "INFO:tensorflow:Calling model_fn.\n",
      "INFO:tensorflow:Done calling model_fn.\n",
      "INFO:tensorflow:Starting evaluation at 2019-12-26-13:52:24\n",
      "INFO:tensorflow:Graph was finalized.\n",
      "INFO:tensorflow:Restoring parameters from ./graphs/canned/deep\\model.ckpt-4000\n",
      "INFO:tensorflow:Running local_init_op.\n",
      "INFO:tensorflow:Done running local_init_op.\n",
      "INFO:tensorflow:Finished evaluation at 2019-12-26-13:52:25\n",
      "INFO:tensorflow:Saving dict for global step 4000: accuracy = 0.9777, average_loss = 0.07061621, global_step = 4000, loss = 8.938761\n",
      "INFO:tensorflow:Saving 'checkpoint_path' summary for global step 4000: ./graphs/canned/deep\\model.ckpt-4000\n",
      "{'accuracy': 0.9777, 'average_loss': 0.07061621, 'loss': 8.938761, 'global_step': 4000}\n"
     ]
    }
   ],
   "source": [
    "\n",
    "# Expect accuracy around 97%\n",
    "evaluation = estimator.evaluate(input_fn=test_input)\n",
    "print(evaluation)"
   ]
  },
  {
   "cell_type": "code",
   "execution_count": 30,
   "metadata": {},
   "outputs": [
    {
     "name": "stdout",
     "output_type": "stream",
     "text": [
      "INFO:tensorflow:Calling model_fn.\n",
      "INFO:tensorflow:Done calling model_fn.\n",
      "INFO:tensorflow:Graph was finalized.\n",
      "INFO:tensorflow:Restoring parameters from ./graphs/canned/deep\\model.ckpt-4000\n",
      "INFO:tensorflow:Running local_init_op.\n",
      "INFO:tensorflow:Done running local_init_op.\n",
      "Example 0. True: 7, Predicted: 7\n",
      "Example 1. True: 2, Predicted: 2\n",
      "Example 2. True: 1, Predicted: 1\n",
      "Example 3. True: 0, Predicted: 0\n",
      "Example 4. True: 4, Predicted: 4\n"
     ]
    }
   ],
   "source": [
    "MAX_TO_PRINT = 5\n",
    "\n",
    "# This returns a generator object\n",
    "predictions = estimator.predict(input_fn=test_input)\n",
    "i = 0\n",
    "for p in predictions:\n",
    "    true_label = y_test[i]\n",
    "    predicted_label = p['class_ids'][0]\n",
    "    print(\"Example %d. True: %d, Predicted: %d\" % (i, true_label, predicted_label))\n",
    "    i += 1\n",
    "    if i == MAX_TO_PRINT: break"
   ]
  },
  {
   "cell_type": "code",
   "execution_count": 31,
   "metadata": {},
   "outputs": [
    {
     "name": "stdout",
     "output_type": "stream",
     "text": [
      "INFO:tensorflow:Using default config.\n",
      "INFO:tensorflow:Using config: {'_model_dir': './graphs/canned/deep', '_tf_random_seed': None, '_save_summary_steps': 100, '_save_checkpoints_steps': None, '_save_checkpoints_secs': 600, '_session_config': None, '_keep_checkpoint_max': 5, '_keep_checkpoint_every_n_hours': 10000, '_log_step_count_steps': 100, '_train_distribute': None, '_device_fn': None, '_service': None, '_cluster_spec': <tensorflow.python.training.server_lib.ClusterSpec object at 0x000002146937A898>, '_task_type': 'worker', '_task_id': 0, '_global_id_in_cluster': 0, '_master': '', '_evaluation_master': '', '_is_chief': True, '_num_ps_replicas': 0, '_num_worker_replicas': 1}\n"
     ]
    }
   ],
   "source": [
    "estimator = tf.estimator.DNNClassifier(\n",
    "    hidden_units=[256], # we will arbitrarily use two layers\n",
    "    feature_columns=feature_spec,\n",
    "    n_classes=10,\n",
    "    model_dir=\"./graphs/canned/deep\")"
   ]
  },
  {
   "cell_type": "code",
   "execution_count": 32,
   "metadata": {},
   "outputs": [
    {
     "name": "stdout",
     "output_type": "stream",
     "text": [
      "INFO:tensorflow:Calling model_fn.\n",
      "INFO:tensorflow:Done calling model_fn.\n",
      "INFO:tensorflow:Create CheckpointSaverHook.\n",
      "INFO:tensorflow:Graph was finalized.\n",
      "INFO:tensorflow:Restoring parameters from ./graphs/canned/deep\\model.ckpt-4000\n",
      "INFO:tensorflow:Running local_init_op.\n",
      "INFO:tensorflow:Done running local_init_op.\n",
      "INFO:tensorflow:Saving checkpoints for 4000 into ./graphs/canned/deep\\model.ckpt.\n",
      "INFO:tensorflow:loss = 1.3653553, step = 4001\n",
      "INFO:tensorflow:global_step/sec: 174.988\n",
      "INFO:tensorflow:loss = 1.4647474, step = 4101 (0.575 sec)\n",
      "INFO:tensorflow:global_step/sec: 197.2\n",
      "INFO:tensorflow:loss = 0.6456722, step = 4201 (0.506 sec)\n",
      "INFO:tensorflow:global_step/sec: 205.778\n",
      "INFO:tensorflow:loss = 4.871215, step = 4301 (0.487 sec)\n",
      "INFO:tensorflow:global_step/sec: 194.316\n",
      "INFO:tensorflow:loss = 2.4340227, step = 4401 (0.515 sec)\n",
      "INFO:tensorflow:global_step/sec: 183.87\n",
      "INFO:tensorflow:loss = 3.2014341, step = 4501 (0.544 sec)\n",
      "INFO:tensorflow:global_step/sec: 192.388\n",
      "INFO:tensorflow:loss = 1.409666, step = 4601 (0.519 sec)\n",
      "INFO:tensorflow:global_step/sec: 223.798\n",
      "INFO:tensorflow:loss = 1.5602744, step = 4701 (0.451 sec)\n",
      "INFO:tensorflow:global_step/sec: 193.157\n",
      "INFO:tensorflow:loss = 3.8314104, step = 4801 (0.514 sec)\n",
      "INFO:tensorflow:global_step/sec: 191.21\n",
      "INFO:tensorflow:loss = 3.980449, step = 4901 (0.524 sec)\n",
      "INFO:tensorflow:global_step/sec: 187.015\n",
      "INFO:tensorflow:loss = 1.4053289, step = 5001 (0.534 sec)\n",
      "INFO:tensorflow:global_step/sec: 196.611\n",
      "INFO:tensorflow:loss = 2.4104664, step = 5101 (0.509 sec)\n",
      "INFO:tensorflow:global_step/sec: 188.688\n",
      "INFO:tensorflow:loss = 1.8322945, step = 5201 (0.530 sec)\n",
      "INFO:tensorflow:global_step/sec: 191.91\n",
      "INFO:tensorflow:loss = 1.9259397, step = 5301 (0.521 sec)\n",
      "INFO:tensorflow:global_step/sec: 202.572\n",
      "INFO:tensorflow:loss = 3.7840352, step = 5401 (0.493 sec)\n",
      "INFO:tensorflow:global_step/sec: 198.071\n",
      "INFO:tensorflow:loss = 1.596955, step = 5501 (0.506 sec)\n",
      "INFO:tensorflow:global_step/sec: 191.719\n",
      "INFO:tensorflow:loss = 0.9607105, step = 5601 (0.523 sec)\n",
      "INFO:tensorflow:global_step/sec: 214.641\n",
      "INFO:tensorflow:loss = 5.9057913, step = 5701 (0.464 sec)\n",
      "INFO:tensorflow:global_step/sec: 196.939\n",
      "INFO:tensorflow:loss = 2.080803, step = 5801 (0.509 sec)\n",
      "INFO:tensorflow:global_step/sec: 192.314\n",
      "INFO:tensorflow:loss = 1.2391329, step = 5901 (0.520 sec)\n",
      "INFO:tensorflow:Saving checkpoints for 6000 into ./graphs/canned/deep\\model.ckpt.\n",
      "INFO:tensorflow:Loss for final step: 1.8598421.\n"
     ]
    },
    {
     "data": {
      "text/plain": [
       "<tensorflow.python.estimator.canned.dnn.DNNClassifier at 0x214692ee668>"
      ]
     },
     "execution_count": 32,
     "metadata": {},
     "output_type": "execute_result"
    }
   ],
   "source": [
    "\n",
    "# I've arbitrarily decided to train for 2000 steps\n",
    "estimator.train(train_input, steps=2000)"
   ]
  },
  {
   "cell_type": "code",
   "execution_count": 33,
   "metadata": {},
   "outputs": [
    {
     "name": "stdout",
     "output_type": "stream",
     "text": [
      "INFO:tensorflow:Calling model_fn.\n",
      "INFO:tensorflow:Done calling model_fn.\n",
      "INFO:tensorflow:Starting evaluation at 2019-12-26-13:54:47\n",
      "INFO:tensorflow:Graph was finalized.\n",
      "INFO:tensorflow:Restoring parameters from ./graphs/canned/deep\\model.ckpt-6000\n",
      "INFO:tensorflow:Running local_init_op.\n",
      "INFO:tensorflow:Done running local_init_op.\n",
      "INFO:tensorflow:Finished evaluation at 2019-12-26-13:54:48\n",
      "INFO:tensorflow:Saving dict for global step 6000: accuracy = 0.9777, average_loss = 0.07252213, global_step = 6000, loss = 9.1800165\n",
      "INFO:tensorflow:Saving 'checkpoint_path' summary for global step 6000: ./graphs/canned/deep\\model.ckpt-6000\n",
      "{'accuracy': 0.9777, 'average_loss': 0.07252213, 'loss': 9.1800165, 'global_step': 6000}\n"
     ]
    }
   ],
   "source": [
    "# Expect accuracy around 97%\n",
    "evaluation = estimator.evaluate(input_fn=test_input)\n",
    "print(evaluation)"
   ]
  },
  {
   "cell_type": "code",
   "execution_count": null,
   "metadata": {},
   "outputs": [],
   "source": []
  }
 ],
 "metadata": {
  "kernelspec": {
   "display_name": "Python 3",
   "language": "python",
   "name": "python3"
  },
  "language_info": {
   "codemirror_mode": {
    "name": "ipython",
    "version": 3
   },
   "file_extension": ".py",
   "mimetype": "text/x-python",
   "name": "python",
   "nbconvert_exporter": "python",
   "pygments_lexer": "ipython3",
   "version": "3.6.9"
  }
 },
 "nbformat": 4,
 "nbformat_minor": 2
}
